{
 "cells": [
  {
   "cell_type": "code",
   "execution_count": 16,
   "metadata": {},
   "outputs": [],
   "source": [
    "# CNN\n",
    "# Importing Packages\n",
    "from tensorflow.keras.models import Sequential\n",
    "from tensorflow.keras.layers import Convolution2D, MaxPooling2D, Flatten, Dense, Dropout"
   ]
  },
  {
   "cell_type": "code",
   "execution_count": 17,
   "metadata": {},
   "outputs": [],
   "source": [
    "# Initiate CNN\n",
    "classifier = Sequential()\n",
    "\n",
    "# Convolution and Pooling\n",
    "classifier.add(Convolution2D(64,(3,3), input_shape=(150,150,3), activation='relu'))\n",
    "classifier.add(MaxPooling2D(pool_size=(2,2)))\n",
    "\n",
    "classifier.add(Convolution2D(64,(3,3), activation='relu'))\n",
    "classifier.add(MaxPooling2D(pool_size=(2,2)))\n",
    "\n",
    "classifier.add(Convolution2D(128,(3,3), activation='relu'))\n",
    "classifier.add(MaxPooling2D(pool_size=(2,2)))\n",
    "\n",
    "classifier.add(Convolution2D(128,(3,3), activation='relu'))\n",
    "classifier.add(MaxPooling2D(pool_size=(2,2)))\n",
    "\n",
    "# Flattening\n",
    "classifier.add(Flatten())"
   ]
  },
  {
   "cell_type": "code",
   "execution_count": 18,
   "metadata": {},
   "outputs": [],
   "source": [
    "# Full Connection\n",
    "classifier.add(Dropout(0.5))\n",
    "classifier.add(Dense(512,activation='relu'))\n",
    "classifier.add(Dense(3,activation='softmax'))\n",
    "\n",
    "# Compile\n",
    "classifier.compile(optimizer='rmsprop', loss='categorical_crossentropy',metrics=['accuracy'])"
   ]
  },
  {
   "cell_type": "code",
   "execution_count": 19,
   "metadata": {},
   "outputs": [
    {
     "name": "stdout",
     "output_type": "stream",
     "text": [
      "Model: \"sequential_3\"\n",
      "_________________________________________________________________\n",
      "Layer (type)                 Output Shape              Param #   \n",
      "=================================================================\n",
      "conv2d_10 (Conv2D)           (None, 148, 148, 64)      1792      \n",
      "_________________________________________________________________\n",
      "max_pooling2d_10 (MaxPooling (None, 74, 74, 64)        0         \n",
      "_________________________________________________________________\n",
      "conv2d_11 (Conv2D)           (None, 72, 72, 64)        36928     \n",
      "_________________________________________________________________\n",
      "max_pooling2d_11 (MaxPooling (None, 36, 36, 64)        0         \n",
      "_________________________________________________________________\n",
      "conv2d_12 (Conv2D)           (None, 34, 34, 128)       73856     \n",
      "_________________________________________________________________\n",
      "max_pooling2d_12 (MaxPooling (None, 17, 17, 128)       0         \n",
      "_________________________________________________________________\n",
      "conv2d_13 (Conv2D)           (None, 15, 15, 128)       147584    \n",
      "_________________________________________________________________\n",
      "max_pooling2d_13 (MaxPooling (None, 7, 7, 128)         0         \n",
      "_________________________________________________________________\n",
      "flatten_3 (Flatten)          (None, 6272)              0         \n",
      "_________________________________________________________________\n",
      "dropout_4 (Dropout)          (None, 6272)              0         \n",
      "_________________________________________________________________\n",
      "dense_8 (Dense)              (None, 512)               3211776   \n",
      "_________________________________________________________________\n",
      "dense_9 (Dense)              (None, 3)                 1539      \n",
      "=================================================================\n",
      "Total params: 3,473,475\n",
      "Trainable params: 3,473,475\n",
      "Non-trainable params: 0\n",
      "_________________________________________________________________\n"
     ]
    }
   ],
   "source": [
    "classifier.summary()"
   ]
  },
  {
   "cell_type": "code",
   "execution_count": 21,
   "metadata": {
    "scrolled": true
   },
   "outputs": [
    {
     "name": "stdout",
     "output_type": "stream",
     "text": [
      "Found 2520 images belonging to 3 classes.\n",
      "Found 372 images belonging to 3 classes.\n",
      "Epoch 1/10\n",
      "79/79 [==============================] - 106s 1s/step - loss: 1.1243 - accuracy: 0.3591 - val_loss: 1.0327 - val_accuracy: 0.3011\n",
      "Epoch 2/10\n",
      "79/79 [==============================] - 105s 1s/step - loss: 0.8925 - accuracy: 0.5679 - val_loss: 0.4771 - val_accuracy: 0.6747\n",
      "Epoch 3/10\n",
      "79/79 [==============================] - 106s 1s/step - loss: 0.5699 - accuracy: 0.7623 - val_loss: 0.1365 - val_accuracy: 0.9731\n",
      "Epoch 4/10\n",
      "79/79 [==============================] - 106s 1s/step - loss: 0.4406 - accuracy: 0.8163 - val_loss: 0.1946 - val_accuracy: 0.9435\n",
      "Epoch 5/10\n",
      "79/79 [==============================] - 106s 1s/step - loss: 0.3066 - accuracy: 0.8861 - val_loss: 0.0879 - val_accuracy: 0.9570\n",
      "Epoch 6/10\n",
      "79/79 [==============================] - 105s 1s/step - loss: 0.2772 - accuracy: 0.9135 - val_loss: 0.0891 - val_accuracy: 0.9624\n",
      "Epoch 7/10\n",
      "79/79 [==============================] - 106s 1s/step - loss: 0.1888 - accuracy: 0.9290 - val_loss: 0.0712 - val_accuracy: 0.9677\n",
      "Epoch 8/10\n",
      "79/79 [==============================] - 106s 1s/step - loss: 0.1703 - accuracy: 0.9393 - val_loss: 0.0469 - val_accuracy: 0.9731\n",
      "Epoch 9/10\n",
      "79/79 [==============================] - 106s 1s/step - loss: 0.1699 - accuracy: 0.9456 - val_loss: 0.0912 - val_accuracy: 0.9570\n",
      "Epoch 10/10\n",
      "79/79 [==============================] - 105s 1s/step - loss: 0.1549 - accuracy: 0.9429 - val_loss: 0.2395 - val_accuracy: 0.9247\n"
     ]
    }
   ],
   "source": [
    "# Import ImageDataGenerator\n",
    "from tensorflow.keras.preprocessing.image import ImageDataGenerator\n",
    "import PIL\n",
    "\n",
    "# Fit CNN\n",
    "train_model = ImageDataGenerator(\n",
    "    rescale = 1./255,\n",
    "    rotation_range=40,\n",
    "    width_shift_range=0.2,\n",
    "    height_shift_range=0.2,\n",
    "    shear_range=0.2,\n",
    "    zoom_range=0.2,\n",
    "    horizontal_flip=True,\n",
    "    fill_mode='nearest'\n",
    ")\n",
    "\n",
    "test_model = ImageDataGenerator(rescale=1./255)\n",
    "\n",
    "train = train_model.flow_from_directory(\n",
    "    'Rock-Paper-Scissors/train',\n",
    "    target_size=(150,150),\n",
    "    class_mode='categorical'    \n",
    ")\n",
    "\n",
    "test = test_model.flow_from_directory(\n",
    "    'Rock-Paper-Scissors/test',\n",
    "    target_size=(150,150),\n",
    "    class_mode='categorical'    \n",
    ")\n",
    "\n",
    "history = classifier.fit_generator(\n",
    "    train,\n",
    "    epochs=10,\n",
    "    validation_data=test,\n",
    "    verbose = 1\n",
    ")\n",
    "\n",
    "classifier.save_weights('10_epochs.h5')"
   ]
  },
  {
   "cell_type": "code",
   "execution_count": 23,
   "metadata": {},
   "outputs": [
    {
     "name": "stdout",
     "output_type": "stream",
     "text": [
      "WARNING:tensorflow:From /usr/local/lib/python3.6/dist-packages/tensorflow_core/python/ops/resource_variable_ops.py:1781: calling BaseResourceVariable.__init__ (from tensorflow.python.ops.resource_variable_ops) with constraint is deprecated and will be removed in a future version.\n",
      "Instructions for updating:\n",
      "If using Keras pass *_constraint arguments to layers.\n",
      "INFO:tensorflow:Assets written to: 10_epochs.model/assets\n"
     ]
    }
   ],
   "source": [
    "classifier.save('10_epochs.model')"
   ]
  },
  {
   "cell_type": "code",
   "execution_count": 25,
   "metadata": {},
   "outputs": [],
   "source": [
    "from tensorflow.keras.preprocessing import image\n",
    "import numpy as np\n",
    "test_image = image.load_img('Rock-Paper-Scissors/validation/paper1.png', target_size = (150,150))\n",
    "test_image = image.img_to_array(test_image)\n",
    "test_image = np.expand_dims(test_image, axis = 0)\n",
    "result = classifier.predict(test_image)"
   ]
  },
  {
   "cell_type": "code",
   "execution_count": 28,
   "metadata": {},
   "outputs": [],
   "source": [
    "test_image = image.load_img('Rock-Paper-Scissors/validation/rock1.png', target_size = (150,150))\n",
    "test_image = image.img_to_array(test_image)\n",
    "test_image = np.expand_dims(test_image, axis = 0)\n",
    "result = classifier.predict(test_image)"
   ]
  },
  {
   "cell_type": "code",
   "execution_count": 29,
   "metadata": {},
   "outputs": [
    {
     "data": {
      "text/plain": [
       "array([[0., 1., 0.]], dtype=float32)"
      ]
     },
     "execution_count": 29,
     "metadata": {},
     "output_type": "execute_result"
    }
   ],
   "source": [
    "result"
   ]
  },
  {
   "cell_type": "code",
   "execution_count": 30,
   "metadata": {},
   "outputs": [
    {
     "data": {
      "image/png": "[encoded data removed]",
      "text/plain": [
       "<Figure size 432x288 with 1 Axes>"
      ]
     },
     "metadata": {
      "needs_background": "light"
     },
     "output_type": "display_data"
    },
    {
     "name": "stdout",
     "output_type": "stream",
     "text": [
      "dict_keys(['loss', 'accuracy', 'val_loss', 'val_accuracy'])\n"
     ]
    }
   ],
   "source": [
    "import matplotlib.pyplot as plt\n",
    "\n",
    "# history = classifier.load_weights('10_epochs.h5')\n",
    "\n",
    "plt.plot(history.history['accuracy'])\n",
    "plt.plot(history.history['val_accuracy'])\n",
    "plt.title('Model accuracy')\n",
    "plt.ylabel('Accuracy')\n",
    "plt.xlabel('Epoch')\n",
    "plt.legend(['Train', 'Test'], loc='upper left')\n",
    "plt.show()\n",
    "\n",
    "print(history.history.keys())"
   ]
  }
 ],
 "metadata": {
  "kernelspec": {
   "display_name": "Python 3",
   "language": "python",
   "name": "python3"
  },
  "language_info": {
   "codemirror_mode": {
    "name": "ipython",
    "version": 3
   },
   "file_extension": ".py",
   "mimetype": "text/x-python",
   "name": "python",
   "nbconvert_exporter": "python",
   "pygments_lexer": "ipython3",
   "version": "3.6.8"
  }
 },
 "nbformat": 4,
 "nbformat_minor": 4
}
